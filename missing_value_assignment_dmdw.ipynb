{
  "nbformat": 4,
  "nbformat_minor": 0,
  "metadata": {
    "colab": {
      "name": "missing value assignment dmdw.ipynb",
      "provenance": [],
      "collapsed_sections": []
    },
    "kernelspec": {
      "name": "python3",
      "display_name": "Python 3"
    }
  },
  "cells": [
    {
      "cell_type": "code",
      "metadata": {
        "id": "LvX3OUX936Jp"
      },
      "source": [
        "import pandas as pd\n",
        "import numpy as np"
      ],
      "execution_count": null,
      "outputs": []
    },
    {
      "cell_type": "markdown",
      "metadata": {
        "id": "dCGgpAe-6QwJ"
      },
      "source": [
        "**Minimum and Maximum Teperature data for 30 days**"
      ]
    },
    {
      "cell_type": "code",
      "metadata": {
        "colab": {
          "base_uri": "https://localhost:8080/"
        },
        "id": "neXKO-rq4Ig8",
        "outputId": "2ab9af0a-1bb1-4359-b52e-2b01f9cd6b75"
      },
      "source": [
        "df= pd.read_csv('temp.csv')\n",
        "print(df.head(30))"
      ],
      "execution_count": null,
      "outputs": [
        {
          "output_type": "stream",
          "text": [
            "    Day_No        Date  min_temp  max_temp  Unnamed: 4        Unnamed: 5\n",
            "0        1  10/16/2020        17        28         NaN  Place: kathmandu\n",
            "1        2  10/17/2020        16        28         NaN  Place: kathmandu\n",
            "2        3  10/18/2020        17        28         NaN  Place: kathmandu\n",
            "3        4  10/19/2020        15        27         NaN  Place: kathmandu\n",
            "4        5  10/20/2020        14        26         NaN  Place: kathmandu\n",
            "5        6  10/20/2020        16        26         NaN  Place: kathmandu\n",
            "6        7  10/21/2020        15        26         NaN  Place: kathmandu\n",
            "7        8  10/22/2020        14        26         NaN  Place: kathmandu\n",
            "8        9  10/23/2020        15        25         NaN  Place: kathmandu\n",
            "9       10  10/24/2020        15        27         NaN  Place: kathmandu\n",
            "10      11  10/25/2020        14        27         NaN  Place: kathmandu\n",
            "11      12  10/26/2020        15        27         NaN  Place: kathmandu\n",
            "12      13  10/27/2020        14        25         NaN  Place: kathmandu\n",
            "13      14  10/28/2020        12        26         NaN  Place: kathmandu\n",
            "14      15  10/29/2020        13        27         NaN  Place: kathmandu\n",
            "15      16  10/30/2020        14        28         NaN  Place: kathmandu\n",
            "16      17  10/31/2020        14        28         NaN  Place: kathmandu\n",
            "17      18   11/1/2020        13        26         NaN  Place: kathmandu\n",
            "18      19   11/2/2020        13        26         NaN  Place: kathmandu\n",
            "19      20   11/3/2020        13        26         NaN  Place: kathmandu\n",
            "20      21   11/4/2020        11        26         NaN  Place: kathmandu\n",
            "21      22   11/5/2020        10        24         NaN  Place: kathmandu\n",
            "22      23   11/6/2020        11        24         NaN  Place: kathmandu\n",
            "23      24   11/7/2020        10        25         NaN  Place: kathmandu\n",
            "24      25   11/8/2020        11        23         NaN  Place: kathmandu\n",
            "25      26   11/9/2020        10        25         NaN  Place: kathmandu\n",
            "26      27  11/10/2020        11        26         NaN  Place: kathmandu\n",
            "27      28  11/11/2020        10        25         NaN  Place: kathmandu\n",
            "28      29  11/12/2020        11        24         NaN  Place: kathmandu\n",
            "29      30  11/13/2020        10        25         NaN  Place: kathmandu\n"
          ],
          "name": "stdout"
        }
      ]
    },
    {
      "cell_type": "markdown",
      "metadata": {
        "id": "YLw75XJ97HTs"
      },
      "source": [
        "**Minimum and Maximum Teperature data for 30 days after deleting 5 values from each parameter** "
      ]
    },
    {
      "cell_type": "code",
      "metadata": {
        "colab": {
          "base_uri": "https://localhost:8080/"
        },
        "id": "-u1_mU2P7hI4",
        "outputId": "8cfd1470-312c-4129-c0af-44186554523b"
      },
      "source": [
        "df= pd.read_csv('tad.csv')\n",
        "print(df.head(30))"
      ],
      "execution_count": null,
      "outputs": [
        {
          "output_type": "stream",
          "text": [
            "    Day_No        Date  min_temp  max_temp  Unnamed: 4        Unnamed: 5\n",
            "0        1  10/16/2020      17.0      28.0         NaN  Place: kathmandu\n",
            "1        2  10/17/2020      16.0      28.0         NaN  Place: kathmandu\n",
            "2        3  10/18/2020       NaN      28.0         NaN  Place: kathmandu\n",
            "3        4  10/19/2020      15.0      27.0         NaN  Place: kathmandu\n",
            "4        5  10/20/2020      14.0      26.0         NaN  Place: kathmandu\n",
            "5        6  10/20/2020      16.0       NaN         NaN  Place: kathmandu\n",
            "6        7  10/21/2020       NaN      26.0         NaN  Place: kathmandu\n",
            "7        8  10/22/2020      14.0      26.0         NaN  Place: kathmandu\n",
            "8        9  10/23/2020      15.0      25.0         NaN  Place: kathmandu\n",
            "9       10  10/24/2020       NaN      27.0         NaN  Place: kathmandu\n",
            "10      11  10/25/2020      14.0       NaN         NaN  Place: kathmandu\n",
            "11      12  10/26/2020      15.0      27.0         NaN  Place: kathmandu\n",
            "12      13  10/27/2020      14.0      25.0         NaN  Place: kathmandu\n",
            "13      14  10/28/2020      12.0      26.0         NaN  Place: kathmandu\n",
            "14      15  10/29/2020      13.0      27.0         NaN  Place: kathmandu\n",
            "15      16  10/30/2020      14.0      28.0         NaN  Place: kathmandu\n",
            "16      17  10/31/2020       NaN      28.0         NaN  Place: kathmandu\n",
            "17      18   11/1/2020      13.0      26.0         NaN  Place: kathmandu\n",
            "18      19   11/2/2020      13.0      26.0         NaN  Place: kathmandu\n",
            "19      20   11/3/2020      13.0       NaN         NaN  Place: kathmandu\n",
            "20      21   11/4/2020      11.0      26.0         NaN  Place: kathmandu\n",
            "21      22   11/5/2020      10.0      24.0         NaN  Place: kathmandu\n",
            "22      23   11/6/2020      11.0      24.0         NaN  Place: kathmandu\n",
            "23      24   11/7/2020       NaN      25.0         NaN  Place: kathmandu\n",
            "24      25   11/8/2020      11.0       NaN         NaN  Place: kathmandu\n",
            "25      26   11/9/2020      10.0      25.0         NaN  Place: kathmandu\n",
            "26      27  11/10/2020      11.0      26.0         NaN  Place: kathmandu\n",
            "27      28  11/11/2020      10.0       NaN         NaN  Place: kathmandu\n",
            "28      29  11/12/2020      11.0      24.0         NaN  Place: kathmandu\n",
            "29      30  11/13/2020      10.0      25.0         NaN  Place: kathmandu\n"
          ],
          "name": "stdout"
        }
      ]
    },
    {
      "cell_type": "markdown",
      "metadata": {
        "id": "-iw-x2t69jwh"
      },
      "source": [
        "**calculating parameters of different columns**"
      ]
    },
    {
      "cell_type": "code",
      "metadata": {
        "colab": {
          "base_uri": "https://localhost:8080/"
        },
        "id": "yOkwxenD8Pq5",
        "outputId": "4d05881a-bec7-4d9b-b8ba-3e780f2b4884"
      },
      "source": [
        "print(df.describe())"
      ],
      "execution_count": null,
      "outputs": [
        {
          "output_type": "stream",
          "text": [
            "          Day_No   min_temp   max_temp  Unnamed: 4\n",
            "count  30.000000  25.000000  25.000000         0.0\n",
            "mean   15.500000  12.920000  26.120000         NaN\n",
            "std     8.803408   2.119748   1.301281         NaN\n",
            "min     1.000000  10.000000  24.000000         NaN\n",
            "25%     8.250000  11.000000  25.000000         NaN\n",
            "50%    15.500000  13.000000  26.000000         NaN\n",
            "75%    22.750000  14.000000  27.000000         NaN\n",
            "max    30.000000  17.000000  28.000000         NaN\n"
          ],
          "name": "stdout"
        }
      ]
    },
    {
      "cell_type": "markdown",
      "metadata": {
        "id": "jW9LcilR8KUX"
      },
      "source": [
        " **Replacing NaN values with mean, average, median, previous, following data**"
      ]
    },
    {
      "cell_type": "markdown",
      "metadata": {
        "id": "pYOLWwNECK4Y"
      },
      "source": [
        "#**FOR MINIMUM TEMPERATURE**\n",
        "\n"
      ]
    },
    {
      "cell_type": "code",
      "metadata": {
        "colab": {
          "base_uri": "https://localhost:8080/"
        },
        "id": "m6CwaQ4A9fYK",
        "outputId": "458273d4-19a3-49a7-9e6b-a6635b15f7bd"
      },
      "source": [
        "print('min_temp')\n",
        "print(df['min_temp'].head(30))"
      ],
      "execution_count": null,
      "outputs": [
        {
          "output_type": "stream",
          "text": [
            "min_temp\n",
            "0     17.0\n",
            "1     16.0\n",
            "2      NaN\n",
            "3     15.0\n",
            "4     14.0\n",
            "5     16.0\n",
            "6      NaN\n",
            "7     14.0\n",
            "8     15.0\n",
            "9      NaN\n",
            "10    14.0\n",
            "11    15.0\n",
            "12    14.0\n",
            "13    12.0\n",
            "14    13.0\n",
            "15    14.0\n",
            "16     NaN\n",
            "17    13.0\n",
            "18    13.0\n",
            "19    13.0\n",
            "20    11.0\n",
            "21    10.0\n",
            "22    11.0\n",
            "23     NaN\n",
            "24    11.0\n",
            "25    10.0\n",
            "26    11.0\n",
            "27    10.0\n",
            "28    11.0\n",
            "29    10.0\n",
            "Name: min_temp, dtype: float64\n"
          ],
          "name": "stdout"
        }
      ]
    },
    {
      "cell_type": "code",
      "metadata": {
        "colab": {
          "base_uri": "https://localhost:8080/"
        },
        "id": "TV_BvM-w-aoK",
        "outputId": "6dbcd1d4-9646-4c95-e1c2-1dafd255db9f"
      },
      "source": [
        "print(df['min_temp'].fillna((df['min_temp'].mean())))     #by mean"
      ],
      "execution_count": null,
      "outputs": [
        {
          "output_type": "stream",
          "text": [
            "0     17.00\n",
            "1     16.00\n",
            "2     12.92\n",
            "3     15.00\n",
            "4     14.00\n",
            "5     16.00\n",
            "6     12.92\n",
            "7     14.00\n",
            "8     15.00\n",
            "9     12.92\n",
            "10    14.00\n",
            "11    15.00\n",
            "12    14.00\n",
            "13    12.00\n",
            "14    13.00\n",
            "15    14.00\n",
            "16    12.92\n",
            "17    13.00\n",
            "18    13.00\n",
            "19    13.00\n",
            "20    11.00\n",
            "21    10.00\n",
            "22    11.00\n",
            "23    12.92\n",
            "24    11.00\n",
            "25    10.00\n",
            "26    11.00\n",
            "27    10.00\n",
            "28    11.00\n",
            "29    10.00\n",
            "Name: min_temp, dtype: float64\n"
          ],
          "name": "stdout"
        }
      ]
    },
    {
      "cell_type": "code",
      "metadata": {
        "colab": {
          "base_uri": "https://localhost:8080/"
        },
        "id": "kJifGq-HBaHi",
        "outputId": "709d87e7-57d1-4165-8aea-069b85301261"
      },
      "source": [
        "print(df['min_temp'].fillna((df['min_temp'].median())))     #by median"
      ],
      "execution_count": null,
      "outputs": [
        {
          "output_type": "stream",
          "text": [
            "0     17.0\n",
            "1     16.0\n",
            "2     13.0\n",
            "3     15.0\n",
            "4     14.0\n",
            "5     16.0\n",
            "6     13.0\n",
            "7     14.0\n",
            "8     15.0\n",
            "9     13.0\n",
            "10    14.0\n",
            "11    15.0\n",
            "12    14.0\n",
            "13    12.0\n",
            "14    13.0\n",
            "15    14.0\n",
            "16    13.0\n",
            "17    13.0\n",
            "18    13.0\n",
            "19    13.0\n",
            "20    11.0\n",
            "21    10.0\n",
            "22    11.0\n",
            "23    13.0\n",
            "24    11.0\n",
            "25    10.0\n",
            "26    11.0\n",
            "27    10.0\n",
            "28    11.0\n",
            "29    10.0\n",
            "Name: min_temp, dtype: float64\n"
          ],
          "name": "stdout"
        }
      ]
    },
    {
      "cell_type": "code",
      "metadata": {
        "colab": {
          "base_uri": "https://localhost:8080/"
        },
        "id": "yd42xZyBBrQ4",
        "outputId": "79f58f9d-07f8-4345-ce6a-6d9943b1b46a"
      },
      "source": [
        "print(df['min_temp'].fillna((df['min_temp'].pad())))     #by previous data"
      ],
      "execution_count": null,
      "outputs": [
        {
          "output_type": "stream",
          "text": [
            "0     17.0\n",
            "1     16.0\n",
            "2     16.0\n",
            "3     15.0\n",
            "4     14.0\n",
            "5     16.0\n",
            "6     16.0\n",
            "7     14.0\n",
            "8     15.0\n",
            "9     15.0\n",
            "10    14.0\n",
            "11    15.0\n",
            "12    14.0\n",
            "13    12.0\n",
            "14    13.0\n",
            "15    14.0\n",
            "16    14.0\n",
            "17    13.0\n",
            "18    13.0\n",
            "19    13.0\n",
            "20    11.0\n",
            "21    10.0\n",
            "22    11.0\n",
            "23    11.0\n",
            "24    11.0\n",
            "25    10.0\n",
            "26    11.0\n",
            "27    10.0\n",
            "28    11.0\n",
            "29    10.0\n",
            "Name: min_temp, dtype: float64\n"
          ],
          "name": "stdout"
        }
      ]
    },
    {
      "cell_type": "code",
      "metadata": {
        "colab": {
          "base_uri": "https://localhost:8080/"
        },
        "id": "QOZiUdAUB-fI",
        "outputId": "b1b80a20-1de2-4687-a5c2-439c2dbddf22"
      },
      "source": [
        "print(df['min_temp'].fillna((df['min_temp'].bfill())))     #by next data"
      ],
      "execution_count": null,
      "outputs": [
        {
          "output_type": "stream",
          "text": [
            "0     17.0\n",
            "1     16.0\n",
            "2     15.0\n",
            "3     15.0\n",
            "4     14.0\n",
            "5     16.0\n",
            "6     14.0\n",
            "7     14.0\n",
            "8     15.0\n",
            "9     14.0\n",
            "10    14.0\n",
            "11    15.0\n",
            "12    14.0\n",
            "13    12.0\n",
            "14    13.0\n",
            "15    14.0\n",
            "16    13.0\n",
            "17    13.0\n",
            "18    13.0\n",
            "19    13.0\n",
            "20    11.0\n",
            "21    10.0\n",
            "22    11.0\n",
            "23    11.0\n",
            "24    11.0\n",
            "25    10.0\n",
            "26    11.0\n",
            "27    10.0\n",
            "28    11.0\n",
            "29    10.0\n",
            "Name: min_temp, dtype: float64\n"
          ],
          "name": "stdout"
        }
      ]
    },
    {
      "cell_type": "markdown",
      "metadata": {
        "id": "SLyOM_UiC67b"
      },
      "source": [
        "#**FOR MAXIMUM TEMPERATURE**"
      ]
    },
    {
      "cell_type": "code",
      "metadata": {
        "colab": {
          "base_uri": "https://localhost:8080/"
        },
        "id": "OMpf7HmnDDcB",
        "outputId": "ec2e9df0-088c-4261-e4fe-c6a7bcc9d458"
      },
      "source": [
        "print('max_temp')\n",
        "print(df['max_temp'].head(30))"
      ],
      "execution_count": null,
      "outputs": [
        {
          "output_type": "stream",
          "text": [
            "max_temp\n",
            "0     28.0\n",
            "1     28.0\n",
            "2     28.0\n",
            "3     27.0\n",
            "4     26.0\n",
            "5      NaN\n",
            "6     26.0\n",
            "7     26.0\n",
            "8     25.0\n",
            "9     27.0\n",
            "10     NaN\n",
            "11    27.0\n",
            "12    25.0\n",
            "13    26.0\n",
            "14    27.0\n",
            "15    28.0\n",
            "16    28.0\n",
            "17    26.0\n",
            "18    26.0\n",
            "19     NaN\n",
            "20    26.0\n",
            "21    24.0\n",
            "22    24.0\n",
            "23    25.0\n",
            "24     NaN\n",
            "25    25.0\n",
            "26    26.0\n",
            "27     NaN\n",
            "28    24.0\n",
            "29    25.0\n",
            "Name: max_temp, dtype: float64\n"
          ],
          "name": "stdout"
        }
      ]
    },
    {
      "cell_type": "code",
      "metadata": {
        "colab": {
          "base_uri": "https://localhost:8080/"
        },
        "id": "0Q9gC_TfDL73",
        "outputId": "c80b0a79-df74-40a8-ceaa-adfa441d0a47"
      },
      "source": [
        "print(df['max_temp'].fillna((df['max_temp'].mean())))     #by mean"
      ],
      "execution_count": null,
      "outputs": [
        {
          "output_type": "stream",
          "text": [
            "0     28.00\n",
            "1     28.00\n",
            "2     28.00\n",
            "3     27.00\n",
            "4     26.00\n",
            "5     26.12\n",
            "6     26.00\n",
            "7     26.00\n",
            "8     25.00\n",
            "9     27.00\n",
            "10    26.12\n",
            "11    27.00\n",
            "12    25.00\n",
            "13    26.00\n",
            "14    27.00\n",
            "15    28.00\n",
            "16    28.00\n",
            "17    26.00\n",
            "18    26.00\n",
            "19    26.12\n",
            "20    26.00\n",
            "21    24.00\n",
            "22    24.00\n",
            "23    25.00\n",
            "24    26.12\n",
            "25    25.00\n",
            "26    26.00\n",
            "27    26.12\n",
            "28    24.00\n",
            "29    25.00\n",
            "Name: max_temp, dtype: float64\n"
          ],
          "name": "stdout"
        }
      ]
    },
    {
      "cell_type": "code",
      "metadata": {
        "colab": {
          "base_uri": "https://localhost:8080/"
        },
        "id": "5JGZbAUADW_C",
        "outputId": "0fe56f9f-a351-499c-c736-ecc5738d2b7f"
      },
      "source": [
        "print(df['max_temp'].fillna((df['max_temp'].median())))     #by median"
      ],
      "execution_count": null,
      "outputs": [
        {
          "output_type": "stream",
          "text": [
            "0     28.0\n",
            "1     28.0\n",
            "2     28.0\n",
            "3     27.0\n",
            "4     26.0\n",
            "5     26.0\n",
            "6     26.0\n",
            "7     26.0\n",
            "8     25.0\n",
            "9     27.0\n",
            "10    26.0\n",
            "11    27.0\n",
            "12    25.0\n",
            "13    26.0\n",
            "14    27.0\n",
            "15    28.0\n",
            "16    28.0\n",
            "17    26.0\n",
            "18    26.0\n",
            "19    26.0\n",
            "20    26.0\n",
            "21    24.0\n",
            "22    24.0\n",
            "23    25.0\n",
            "24    26.0\n",
            "25    25.0\n",
            "26    26.0\n",
            "27    26.0\n",
            "28    24.0\n",
            "29    25.0\n",
            "Name: max_temp, dtype: float64\n"
          ],
          "name": "stdout"
        }
      ]
    },
    {
      "cell_type": "code",
      "metadata": {
        "colab": {
          "base_uri": "https://localhost:8080/"
        },
        "id": "GBKExBt6DeSJ",
        "outputId": "d3b91854-35e6-40e5-b1b6-a9379409eb00"
      },
      "source": [
        "print(df['max_temp'].fillna((df['max_temp'].pad())))     #by previous data"
      ],
      "execution_count": null,
      "outputs": [
        {
          "output_type": "stream",
          "text": [
            "0     28.0\n",
            "1     28.0\n",
            "2     28.0\n",
            "3     27.0\n",
            "4     26.0\n",
            "5     26.0\n",
            "6     26.0\n",
            "7     26.0\n",
            "8     25.0\n",
            "9     27.0\n",
            "10    27.0\n",
            "11    27.0\n",
            "12    25.0\n",
            "13    26.0\n",
            "14    27.0\n",
            "15    28.0\n",
            "16    28.0\n",
            "17    26.0\n",
            "18    26.0\n",
            "19    26.0\n",
            "20    26.0\n",
            "21    24.0\n",
            "22    24.0\n",
            "23    25.0\n",
            "24    25.0\n",
            "25    25.0\n",
            "26    26.0\n",
            "27    26.0\n",
            "28    24.0\n",
            "29    25.0\n",
            "Name: max_temp, dtype: float64\n"
          ],
          "name": "stdout"
        }
      ]
    },
    {
      "cell_type": "code",
      "metadata": {
        "colab": {
          "base_uri": "https://localhost:8080/"
        },
        "id": "ida4UGFCDi-Y",
        "outputId": "cd464525-d032-4914-ccdb-481a8c9c8ccb"
      },
      "source": [
        "print(df['max_temp'].fillna((df['max_temp'].bfill())))     #by next data"
      ],
      "execution_count": null,
      "outputs": [
        {
          "output_type": "stream",
          "text": [
            "0     28.0\n",
            "1     28.0\n",
            "2     28.0\n",
            "3     27.0\n",
            "4     26.0\n",
            "5     26.0\n",
            "6     26.0\n",
            "7     26.0\n",
            "8     25.0\n",
            "9     27.0\n",
            "10    27.0\n",
            "11    27.0\n",
            "12    25.0\n",
            "13    26.0\n",
            "14    27.0\n",
            "15    28.0\n",
            "16    28.0\n",
            "17    26.0\n",
            "18    26.0\n",
            "19    26.0\n",
            "20    26.0\n",
            "21    24.0\n",
            "22    24.0\n",
            "23    25.0\n",
            "24    25.0\n",
            "25    25.0\n",
            "26    26.0\n",
            "27    24.0\n",
            "28    24.0\n",
            "29    25.0\n",
            "Name: max_temp, dtype: float64\n"
          ],
          "name": "stdout"
        }
      ]
    }
  ]
}